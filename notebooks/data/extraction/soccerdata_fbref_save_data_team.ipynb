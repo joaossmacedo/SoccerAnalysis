{
  "cells": [
    {
      "cell_type": "markdown",
      "metadata": {
        "id": "view-in-github",
        "colab_type": "text"
      },
      "source": [
        "<a href=\"https://colab.research.google.com/github/joaossmacedo/SoccerAnalysis/blob/main/notebooks/data/extraction/soccerdata_fbref_save_data_team.ipynb\" target=\"_parent\"><img src=\"https://colab.research.google.com/assets/colab-badge.svg\" alt=\"Open In Colab\"/></a>"
      ]
    },
    {
      "cell_type": "markdown",
      "metadata": {
        "id": "wIW5ORPE_CPA"
      },
      "source": [
        "# Imports"
      ]
    },
    {
      "cell_type": "code",
      "execution_count": 1,
      "metadata": {
        "colab": {
          "base_uri": "https://localhost:8080/",
          "height": 778
        },
        "id": "dHTA3prN_Slz",
        "outputId": "84f92169-06c3-4995-fd4c-0520a41f2709"
      },
      "outputs": [
        {
          "output_type": "stream",
          "name": "stdout",
          "text": [
            "Requirement already satisfied: soccerdata in /usr/local/lib/python3.11/dist-packages (1.8.7)\n",
            "Requirement already satisfied: PySocks<2.0.0,>=1.7.1 in /usr/local/lib/python3.11/dist-packages (from soccerdata) (1.7.1)\n",
            "Requirement already satisfied: Unidecode<2.0.0,>=1.2.0 in /usr/local/lib/python3.11/dist-packages (from soccerdata) (1.4.0)\n",
            "Requirement already satisfied: cloudscraper<2.0.0,>=1.2.71 in /usr/local/lib/python3.11/dist-packages (from soccerdata) (1.2.71)\n",
            "Requirement already satisfied: html5lib<2.0,>=1.1 in /usr/local/lib/python3.11/dist-packages (from soccerdata) (1.1)\n",
            "Requirement already satisfied: lxml<5.0.0,>=4.9.3 in /usr/local/lib/python3.11/dist-packages (from soccerdata) (4.9.4)\n",
            "Requirement already satisfied: packaging<25.0,>=24.1 in /usr/local/lib/python3.11/dist-packages (from soccerdata) (24.2)\n",
            "Requirement already satisfied: pandas!=2.1.0,<3.0.0,>=2.0.0 in /usr/local/lib/python3.11/dist-packages (from soccerdata) (2.2.2)\n",
            "Requirement already satisfied: requests<3.0,>=2.23 in /usr/local/lib/python3.11/dist-packages (from soccerdata) (2.32.3)\n",
            "Requirement already satisfied: rich<14.0.0,>=13.0.0 in /usr/local/lib/python3.11/dist-packages (from soccerdata) (13.9.4)\n",
            "Requirement already satisfied: undetected-chromedriver<4.0.0,>=3.5.0 in /usr/local/lib/python3.11/dist-packages (from soccerdata) (3.5.5)\n",
            "Requirement already satisfied: unicode<3.0,>=2.7 in /usr/local/lib/python3.11/dist-packages (from soccerdata) (2.9)\n",
            "Requirement already satisfied: pyparsing>=2.4.7 in /usr/local/lib/python3.11/dist-packages (from cloudscraper<2.0.0,>=1.2.71->soccerdata) (3.2.3)\n",
            "Requirement already satisfied: requests-toolbelt>=0.9.1 in /usr/local/lib/python3.11/dist-packages (from cloudscraper<2.0.0,>=1.2.71->soccerdata) (1.0.0)\n",
            "Requirement already satisfied: six>=1.9 in /usr/local/lib/python3.11/dist-packages (from html5lib<2.0,>=1.1->soccerdata) (1.17.0)\n",
            "Requirement already satisfied: webencodings in /usr/local/lib/python3.11/dist-packages (from html5lib<2.0,>=1.1->soccerdata) (0.5.1)\n",
            "Requirement already satisfied: numpy>=1.23.2 in /usr/local/lib/python3.11/dist-packages (from pandas!=2.1.0,<3.0.0,>=2.0.0->soccerdata) (2.0.2)\n",
            "Requirement already satisfied: python-dateutil>=2.8.2 in /usr/local/lib/python3.11/dist-packages (from pandas!=2.1.0,<3.0.0,>=2.0.0->soccerdata) (2.9.0.post0)\n",
            "Requirement already satisfied: pytz>=2020.1 in /usr/local/lib/python3.11/dist-packages (from pandas!=2.1.0,<3.0.0,>=2.0.0->soccerdata) (2025.2)\n",
            "Requirement already satisfied: tzdata>=2022.7 in /usr/local/lib/python3.11/dist-packages (from pandas!=2.1.0,<3.0.0,>=2.0.0->soccerdata) (2025.2)\n",
            "Requirement already satisfied: charset-normalizer<4,>=2 in /usr/local/lib/python3.11/dist-packages (from requests<3.0,>=2.23->soccerdata) (3.4.2)\n",
            "Requirement already satisfied: idna<4,>=2.5 in /usr/local/lib/python3.11/dist-packages (from requests<3.0,>=2.23->soccerdata) (3.10)\n",
            "Requirement already satisfied: urllib3<3,>=1.21.1 in /usr/local/lib/python3.11/dist-packages (from requests<3.0,>=2.23->soccerdata) (2.4.0)\n",
            "Requirement already satisfied: certifi>=2017.4.17 in /usr/local/lib/python3.11/dist-packages (from requests<3.0,>=2.23->soccerdata) (2025.4.26)\n",
            "Requirement already satisfied: markdown-it-py>=2.2.0 in /usr/local/lib/python3.11/dist-packages (from rich<14.0.0,>=13.0.0->soccerdata) (3.0.0)\n",
            "Requirement already satisfied: pygments<3.0.0,>=2.13.0 in /usr/local/lib/python3.11/dist-packages (from rich<14.0.0,>=13.0.0->soccerdata) (2.19.1)\n",
            "Requirement already satisfied: selenium>=4.9.0 in /usr/local/lib/python3.11/dist-packages (from undetected-chromedriver<4.0.0,>=3.5.0->soccerdata) (4.33.0)\n",
            "Requirement already satisfied: websockets in /usr/local/lib/python3.11/dist-packages (from undetected-chromedriver<4.0.0,>=3.5.0->soccerdata) (15.0.1)\n",
            "Requirement already satisfied: mdurl~=0.1 in /usr/local/lib/python3.11/dist-packages (from markdown-it-py>=2.2.0->rich<14.0.0,>=13.0.0->soccerdata) (0.1.2)\n",
            "Requirement already satisfied: trio~=0.30.0 in /usr/local/lib/python3.11/dist-packages (from selenium>=4.9.0->undetected-chromedriver<4.0.0,>=3.5.0->soccerdata) (0.30.0)\n",
            "Requirement already satisfied: trio-websocket~=0.12.2 in /usr/local/lib/python3.11/dist-packages (from selenium>=4.9.0->undetected-chromedriver<4.0.0,>=3.5.0->soccerdata) (0.12.2)\n",
            "Requirement already satisfied: typing_extensions~=4.13.2 in /usr/local/lib/python3.11/dist-packages (from selenium>=4.9.0->undetected-chromedriver<4.0.0,>=3.5.0->soccerdata) (4.13.2)\n",
            "Requirement already satisfied: websocket-client~=1.8.0 in /usr/local/lib/python3.11/dist-packages (from selenium>=4.9.0->undetected-chromedriver<4.0.0,>=3.5.0->soccerdata) (1.8.0)\n",
            "Requirement already satisfied: attrs>=23.2.0 in /usr/local/lib/python3.11/dist-packages (from trio~=0.30.0->selenium>=4.9.0->undetected-chromedriver<4.0.0,>=3.5.0->soccerdata) (25.3.0)\n",
            "Requirement already satisfied: sortedcontainers in /usr/local/lib/python3.11/dist-packages (from trio~=0.30.0->selenium>=4.9.0->undetected-chromedriver<4.0.0,>=3.5.0->soccerdata) (2.4.0)\n",
            "Requirement already satisfied: outcome in /usr/local/lib/python3.11/dist-packages (from trio~=0.30.0->selenium>=4.9.0->undetected-chromedriver<4.0.0,>=3.5.0->soccerdata) (1.3.0.post0)\n",
            "Requirement already satisfied: sniffio>=1.3.0 in /usr/local/lib/python3.11/dist-packages (from trio~=0.30.0->selenium>=4.9.0->undetected-chromedriver<4.0.0,>=3.5.0->soccerdata) (1.3.1)\n",
            "Requirement already satisfied: wsproto>=0.14 in /usr/local/lib/python3.11/dist-packages (from trio-websocket~=0.12.2->selenium>=4.9.0->undetected-chromedriver<4.0.0,>=3.5.0->soccerdata) (1.2.0)\n",
            "Requirement already satisfied: h11<1,>=0.9.0 in /usr/local/lib/python3.11/dist-packages (from wsproto>=0.14->trio-websocket~=0.12.2->selenium>=4.9.0->undetected-chromedriver<4.0.0,>=3.5.0->soccerdata) (0.16.0)\n"
          ]
        },
        {
          "output_type": "display_data",
          "data": {
            "text/plain": [
              "\u001b[2;36m[06/06/25 02:06:59]\u001b[0m\u001b[2;36m \u001b[0m\u001b[34mINFO    \u001b[0m No custom team name replacements found. You can configure these in       \u001b]8;id=999792;file:///usr/local/lib/python3.11/dist-packages/soccerdata/_config.py\u001b\\\u001b[2m_config.py\u001b[0m\u001b]8;;\u001b\\\u001b[2m:\u001b[0m\u001b]8;id=819997;file:///usr/local/lib/python3.11/dist-packages/soccerdata/_config.py#91\u001b\\\u001b[2m91\u001b[0m\u001b]8;;\u001b\\\n",
              "\u001b[2;36m                    \u001b[0m         \u001b[35m/root/soccerdata/config/\u001b[0m\u001b[95mteamname_replacements.json.\u001b[0m                      \u001b[2m             \u001b[0m\n"
            ],
            "text/html": [
              "<pre style=\"white-space:pre;overflow-x:auto;line-height:normal;font-family:Menlo,'DejaVu Sans Mono',consolas,'Courier New',monospace\"><span style=\"color: #7fbfbf; text-decoration-color: #7fbfbf\">[06/06/25 02:06:59] </span><span style=\"color: #000080; text-decoration-color: #000080\">INFO    </span> No custom team name replacements found. You can configure these in       <a href=\"file:///usr/local/lib/python3.11/dist-packages/soccerdata/_config.py\" target=\"_blank\"><span style=\"color: #7f7f7f; text-decoration-color: #7f7f7f\">_config.py</span></a><span style=\"color: #7f7f7f; text-decoration-color: #7f7f7f\">:</span><a href=\"file:///usr/local/lib/python3.11/dist-packages/soccerdata/_config.py#91\" target=\"_blank\"><span style=\"color: #7f7f7f; text-decoration-color: #7f7f7f\">91</span></a>\n",
              "<span style=\"color: #7fbfbf; text-decoration-color: #7fbfbf\">                    </span>         <span style=\"color: #800080; text-decoration-color: #800080\">/root/soccerdata/config/</span><span style=\"color: #ff00ff; text-decoration-color: #ff00ff\">teamname_replacements.json.</span>                      <span style=\"color: #7f7f7f; text-decoration-color: #7f7f7f\">             </span>\n",
              "</pre>\n"
            ]
          },
          "metadata": {}
        },
        {
          "output_type": "display_data",
          "data": {
            "text/plain": [
              "\u001b[2;36m                   \u001b[0m\u001b[2;36m \u001b[0m\u001b[34mINFO    \u001b[0m No custom league dict found. You can configure additional leagues in    \u001b]8;id=627532;file:///usr/local/lib/python3.11/dist-packages/soccerdata/_config.py\u001b\\\u001b[2m_config.py\u001b[0m\u001b]8;;\u001b\\\u001b[2m:\u001b[0m\u001b]8;id=484681;file:///usr/local/lib/python3.11/dist-packages/soccerdata/_config.py#197\u001b\\\u001b[2m197\u001b[0m\u001b]8;;\u001b\\\n",
              "\u001b[2;36m                    \u001b[0m         \u001b[35m/root/soccerdata/config/\u001b[0m\u001b[95mleague_dict.json.\u001b[0m                               \u001b[2m              \u001b[0m\n"
            ],
            "text/html": [
              "<pre style=\"white-space:pre;overflow-x:auto;line-height:normal;font-family:Menlo,'DejaVu Sans Mono',consolas,'Courier New',monospace\"><span style=\"color: #7fbfbf; text-decoration-color: #7fbfbf\">                    </span><span style=\"color: #000080; text-decoration-color: #000080\">INFO    </span> No custom league dict found. You can configure additional leagues in    <a href=\"file:///usr/local/lib/python3.11/dist-packages/soccerdata/_config.py\" target=\"_blank\"><span style=\"color: #7f7f7f; text-decoration-color: #7f7f7f\">_config.py</span></a><span style=\"color: #7f7f7f; text-decoration-color: #7f7f7f\">:</span><a href=\"file:///usr/local/lib/python3.11/dist-packages/soccerdata/_config.py#197\" target=\"_blank\"><span style=\"color: #7f7f7f; text-decoration-color: #7f7f7f\">197</span></a>\n",
              "<span style=\"color: #7fbfbf; text-decoration-color: #7fbfbf\">                    </span>         <span style=\"color: #800080; text-decoration-color: #800080\">/root/soccerdata/config/</span><span style=\"color: #ff00ff; text-decoration-color: #ff00ff\">league_dict.json.</span>                               <span style=\"color: #7f7f7f; text-decoration-color: #7f7f7f\">              </span>\n",
              "</pre>\n"
            ]
          },
          "metadata": {}
        }
      ],
      "source": [
        "!python3 -m pip install soccerdata\n",
        "import soccerdata as sd\n",
        "import seaborn as sns\n",
        "import matplotlib.pyplot as plt"
      ]
    },
    {
      "cell_type": "code",
      "execution_count": 2,
      "metadata": {
        "id": "I0qznV2gz4JN"
      },
      "outputs": [],
      "source": [
        "import pandas as pd\n",
        "pd.set_option('display.max_columns', 100)"
      ]
    },
    {
      "cell_type": "markdown",
      "metadata": {
        "id": "pZci3LOW_Ixi"
      },
      "source": [
        "# Params"
      ]
    },
    {
      "cell_type": "code",
      "execution_count": 3,
      "metadata": {
        "id": "8VZCIU4k_JWE"
      },
      "outputs": [],
      "source": [
        "st = 2017\n",
        "ed = 2025\n",
        "\n",
        "\n",
        "stat_types = [\n",
        "  'standard',\n",
        "  'keeper',\n",
        "  'keeper_adv',\n",
        "  'shooting',\n",
        "  'passing',\n",
        "  'passing_types',\n",
        "  'goal_shot_creation',\n",
        "  'defense',\n",
        "  'possession',\n",
        "  'playing_time',\n",
        "  'misc',\n",
        "]\n",
        "path_output = f'/content/drive/My Drive/database/soccerdata/fbref/raw/team_season_stats/'"
      ]
    },
    {
      "cell_type": "markdown",
      "metadata": {
        "id": "UxzBeKCf_Jpq"
      },
      "source": [
        "# Code"
      ]
    },
    {
      "cell_type": "markdown",
      "metadata": {
        "id": "96rXoWXq_Y93"
      },
      "source": [
        "## Getting Matches"
      ]
    },
    {
      "cell_type": "code",
      "execution_count": 4,
      "metadata": {
        "colab": {
          "base_uri": "https://localhost:8080/"
        },
        "id": "YLyY4FVdM3SE",
        "outputId": "6f14c6fd-5fde-4d33-e923-c6fcaf6a6567"
      },
      "outputs": [
        {
          "output_type": "stream",
          "name": "stdout",
          "text": [
            "Drive already mounted at /content/drive; to attempt to forcibly remount, call drive.mount(\"/content/drive\", force_remount=True).\n"
          ]
        }
      ],
      "source": [
        "from google.colab import drive\n",
        "import os\n",
        "\n",
        "drive.mount('/content/drive')\n",
        "\n",
        "os.makedirs(path_output, exist_ok=True)"
      ]
    },
    {
      "cell_type": "code",
      "execution_count": 5,
      "metadata": {
        "colab": {
          "base_uri": "https://localhost:8080/"
        },
        "id": "mxia7Yzl_KEW",
        "outputId": "87dd3486-d413-415f-862a-c2b492fe6d0e"
      },
      "outputs": [
        {
          "output_type": "stream",
          "name": "stdout",
          "text": [
            "--------------------------------------------------\n",
            "2017 standard\n",
            "skip\n",
            "--------------------------------------------------\n",
            "2018 standard\n",
            "skip\n",
            "--------------------------------------------------\n",
            "2019 standard\n",
            "skip\n",
            "--------------------------------------------------\n",
            "2020 standard\n",
            "skip\n",
            "--------------------------------------------------\n",
            "2021 standard\n",
            "skip\n",
            "--------------------------------------------------\n",
            "2022 standard\n",
            "skip\n",
            "--------------------------------------------------\n",
            "2023 standard\n",
            "skip\n",
            "--------------------------------------------------\n",
            "2024 standard\n",
            "skip\n",
            "--------------------------------------------------\n",
            "2017 keeper\n",
            "skip\n",
            "--------------------------------------------------\n",
            "2018 keeper\n",
            "skip\n",
            "--------------------------------------------------\n",
            "2019 keeper\n",
            "skip\n",
            "--------------------------------------------------\n",
            "2020 keeper\n",
            "skip\n",
            "--------------------------------------------------\n",
            "2021 keeper\n",
            "skip\n",
            "--------------------------------------------------\n",
            "2022 keeper\n",
            "skip\n",
            "--------------------------------------------------\n",
            "2023 keeper\n",
            "skip\n",
            "--------------------------------------------------\n",
            "2024 keeper\n",
            "skip\n",
            "--------------------------------------------------\n",
            "2017 keeper_adv\n",
            "skip\n",
            "--------------------------------------------------\n",
            "2018 keeper_adv\n",
            "skip\n",
            "--------------------------------------------------\n",
            "2019 keeper_adv\n",
            "skip\n",
            "--------------------------------------------------\n",
            "2020 keeper_adv\n",
            "skip\n",
            "--------------------------------------------------\n",
            "2021 keeper_adv\n",
            "skip\n",
            "--------------------------------------------------\n",
            "2022 keeper_adv\n",
            "skip\n",
            "--------------------------------------------------\n",
            "2023 keeper_adv\n",
            "skip\n",
            "--------------------------------------------------\n",
            "2024 keeper_adv\n",
            "skip\n",
            "--------------------------------------------------\n",
            "2017 shooting\n",
            "skip\n",
            "--------------------------------------------------\n",
            "2018 shooting\n",
            "skip\n",
            "--------------------------------------------------\n",
            "2019 shooting\n",
            "skip\n",
            "--------------------------------------------------\n",
            "2020 shooting\n",
            "skip\n",
            "--------------------------------------------------\n",
            "2021 shooting\n",
            "skip\n",
            "--------------------------------------------------\n",
            "2022 shooting\n",
            "skip\n",
            "--------------------------------------------------\n",
            "2023 shooting\n",
            "skip\n",
            "--------------------------------------------------\n",
            "2024 shooting\n",
            "skip\n",
            "--------------------------------------------------\n",
            "2017 passing\n",
            "skip\n",
            "--------------------------------------------------\n",
            "2018 passing\n",
            "skip\n",
            "--------------------------------------------------\n",
            "2019 passing\n",
            "skip\n",
            "--------------------------------------------------\n",
            "2020 passing\n",
            "skip\n",
            "--------------------------------------------------\n",
            "2021 passing\n",
            "skip\n",
            "--------------------------------------------------\n",
            "2022 passing\n",
            "skip\n",
            "--------------------------------------------------\n",
            "2023 passing\n",
            "skip\n",
            "--------------------------------------------------\n",
            "2024 passing\n",
            "skip\n",
            "--------------------------------------------------\n",
            "2017 passing_types\n",
            "skip\n",
            "--------------------------------------------------\n",
            "2018 passing_types\n",
            "skip\n",
            "--------------------------------------------------\n",
            "2019 passing_types\n",
            "skip\n",
            "--------------------------------------------------\n",
            "2020 passing_types\n",
            "skip\n",
            "--------------------------------------------------\n",
            "2021 passing_types\n",
            "skip\n",
            "--------------------------------------------------\n",
            "2022 passing_types\n",
            "skip\n",
            "--------------------------------------------------\n",
            "2023 passing_types\n",
            "skip\n",
            "--------------------------------------------------\n",
            "2024 passing_types\n",
            "skip\n",
            "--------------------------------------------------\n",
            "2017 goal_shot_creation\n",
            "skip\n",
            "--------------------------------------------------\n",
            "2018 goal_shot_creation\n",
            "skip\n",
            "--------------------------------------------------\n",
            "2019 goal_shot_creation\n",
            "skip\n",
            "--------------------------------------------------\n",
            "2020 goal_shot_creation\n",
            "skip\n",
            "--------------------------------------------------\n",
            "2021 goal_shot_creation\n",
            "skip\n",
            "--------------------------------------------------\n",
            "2022 goal_shot_creation\n",
            "skip\n",
            "--------------------------------------------------\n",
            "2023 goal_shot_creation\n",
            "skip\n",
            "--------------------------------------------------\n",
            "2024 goal_shot_creation\n",
            "skip\n",
            "--------------------------------------------------\n",
            "2017 defense\n",
            "skip\n",
            "--------------------------------------------------\n",
            "2018 defense\n",
            "skip\n",
            "--------------------------------------------------\n",
            "2019 defense\n",
            "skip\n",
            "--------------------------------------------------\n",
            "2020 defense\n",
            "skip\n",
            "--------------------------------------------------\n",
            "2021 defense\n",
            "skip\n",
            "--------------------------------------------------\n",
            "2022 defense\n",
            "skip\n",
            "--------------------------------------------------\n",
            "2023 defense\n",
            "skip\n",
            "--------------------------------------------------\n",
            "2024 defense\n",
            "skip\n",
            "--------------------------------------------------\n",
            "2017 possession\n",
            "skip\n",
            "--------------------------------------------------\n",
            "2018 possession\n",
            "skip\n",
            "--------------------------------------------------\n",
            "2019 possession\n",
            "skip\n",
            "--------------------------------------------------\n",
            "2020 possession\n",
            "skip\n",
            "--------------------------------------------------\n",
            "2021 possession\n",
            "skip\n",
            "--------------------------------------------------\n",
            "2022 possession\n",
            "skip\n",
            "--------------------------------------------------\n",
            "2023 possession\n",
            "skip\n",
            "--------------------------------------------------\n",
            "2024 possession\n",
            "skip\n",
            "--------------------------------------------------\n",
            "2017 playing_time\n",
            "skip\n",
            "--------------------------------------------------\n",
            "2018 playing_time\n",
            "skip\n",
            "--------------------------------------------------\n",
            "2019 playing_time\n",
            "skip\n",
            "--------------------------------------------------\n",
            "2020 playing_time\n",
            "skip\n",
            "--------------------------------------------------\n",
            "2021 playing_time\n",
            "skip\n",
            "--------------------------------------------------\n",
            "2022 playing_time\n",
            "skip\n",
            "--------------------------------------------------\n",
            "2023 playing_time\n",
            "skip\n",
            "--------------------------------------------------\n",
            "2024 playing_time\n",
            "skip\n",
            "--------------------------------------------------\n",
            "2017 misc\n",
            "skip\n",
            "--------------------------------------------------\n",
            "2018 misc\n",
            "skip\n",
            "--------------------------------------------------\n",
            "2019 misc\n",
            "skip\n",
            "--------------------------------------------------\n",
            "2020 misc\n",
            "skip\n",
            "--------------------------------------------------\n",
            "2021 misc\n",
            "skip\n",
            "--------------------------------------------------\n",
            "2022 misc\n",
            "skip\n",
            "--------------------------------------------------\n",
            "2023 misc\n",
            "skip\n",
            "--------------------------------------------------\n",
            "2024 misc\n",
            "skip\n"
          ]
        }
      ],
      "source": [
        "for stat_type in stat_types:\n",
        "  path_output_stat = f'{path_output}{stat_type}/'\n",
        "  os.makedirs(path_output_stat, exist_ok=True)\n",
        "\n",
        "  for y in range(st, ed):\n",
        "    print('-'*50)\n",
        "    print(y, stat_type)\n",
        "\n",
        "    path_output_stat_year = f'{path_output_stat}{y}/'\n",
        "    os.makedirs(path_output_stat_year, exist_ok=True)\n",
        "\n",
        "    path_output_stat_year_csv = f'{path_output_stat_year}database.csv'\n",
        "    if os.path.exists(path_output_stat_year_csv):\n",
        "      print('skip')\n",
        "      continue\n",
        "\n",
        "    fbref = sd.FBref(\n",
        "        leagues=['Big 5 European Leagues Combined'],\n",
        "        seasons=y,\n",
        "        no_cache=False, no_store=False\n",
        "      )\n",
        "\n",
        "    df = fbref.read_team_season_stats(stat_type)\n",
        "    # display(df.head(2))\n",
        "\n",
        "    df.to_csv(\n",
        "      path_output_stat_year_csv, index=True\n",
        "    )\n"
      ]
    }
  ],
  "metadata": {
    "colab": {
      "provenance": [],
      "authorship_tag": "ABX9TyOanvpWV74SN7FBVEWbSCXK",
      "include_colab_link": true
    },
    "kernelspec": {
      "display_name": "Python 3",
      "name": "python3"
    },
    "language_info": {
      "name": "python"
    }
  },
  "nbformat": 4,
  "nbformat_minor": 0
}