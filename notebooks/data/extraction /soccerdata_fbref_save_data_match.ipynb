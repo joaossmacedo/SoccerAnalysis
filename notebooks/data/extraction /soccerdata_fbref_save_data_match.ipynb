{
  "cells": [
    {
      "cell_type": "markdown",
      "metadata": {
        "id": "view-in-github",
        "colab_type": "text"
      },
      "source": [
        "<a href=\"https://colab.research.google.com/github/joaossmacedo/SoccerAnalysis/blob/main/notebooks/data/extraction%20/soccerdata_fbref_save_data_match.ipynb\" target=\"_parent\"><img src=\"https://colab.research.google.com/assets/colab-badge.svg\" alt=\"Open In Colab\"/></a>"
      ]
    },
    {
      "cell_type": "markdown",
      "metadata": {
        "id": "wIW5ORPE_CPA"
      },
      "source": [
        "# Imports"
      ]
    },
    {
      "cell_type": "code",
      "execution_count": null,
      "metadata": {
        "id": "dHTA3prN_Slz"
      },
      "outputs": [],
      "source": [
        "!python3 -m pip install soccerdata\n",
        "import soccerdata as sd\n",
        "import seaborn as sns\n",
        "import matplotlib.pyplot as plt"
      ]
    },
    {
      "cell_type": "code",
      "execution_count": null,
      "metadata": {
        "id": "I0qznV2gz4JN"
      },
      "outputs": [],
      "source": [
        "# pd.set_option('display.height', 500)\n",
        "import pandas as pd\n",
        "pd.set_option('display.max_columns', 100)"
      ]
    },
    {
      "cell_type": "markdown",
      "metadata": {
        "id": "pZci3LOW_Ixi"
      },
      "source": [
        "# Params"
      ]
    },
    {
      "cell_type": "code",
      "execution_count": null,
      "metadata": {
        "id": "8VZCIU4k_JWE"
      },
      "outputs": [],
      "source": [
        "st = 2017\n",
        "ed = 2025\n",
        "\n",
        "stat_type = 'summary'\n",
        "# stat_type = 'keepers'\n",
        "# stat_type = 'passing'\n",
        "# stat_type = 'passing_types'\n",
        "# stat_type = 'defense'\n",
        "# stat_type = 'possession'\n",
        "# stat_type = 'misc'\n",
        "\n",
        "path_output = f'/content/drive/My Drive/database/soccerdata/fbref/raw/player_match_stats/{stat_type}/'"
      ]
    },
    {
      "cell_type": "markdown",
      "metadata": {
        "id": "UxzBeKCf_Jpq"
      },
      "source": [
        "# Code"
      ]
    },
    {
      "cell_type": "markdown",
      "metadata": {
        "id": "96rXoWXq_Y93"
      },
      "source": [
        "## Getting Matches"
      ]
    },
    {
      "cell_type": "code",
      "execution_count": null,
      "metadata": {
        "id": "YLyY4FVdM3SE"
      },
      "outputs": [],
      "source": [
        "from google.colab import drive\n",
        "import os\n",
        "\n",
        "drive.mount('/content/drive')\n",
        "\n",
        "os.makedirs(path_output, exist_ok=True)"
      ]
    },
    {
      "cell_type": "code",
      "execution_count": null,
      "metadata": {
        "id": "mxia7Yzl_KEW"
      },
      "outputs": [],
      "source": [
        "for y in range(st, ed):\n",
        "  print('-'*50)\n",
        "  print(y)\n",
        "\n",
        "  path_output_year = f'{path_output}{y}/'\n",
        "  os.makedirs(path_output_year, exist_ok=True)\n",
        "\n",
        "  path_output_year_csv = f'{path_output_year}database.csv'\n",
        "  if os.path.exists(path_output_year_csv):\n",
        "    print('skip')\n",
        "    continue\n",
        "\n",
        "  fbref = sd.FBref(\n",
        "      leagues=['Big 5 European Leagues Combined'],\n",
        "      seasons=y,\n",
        "      no_cache=False, no_store=False\n",
        "\n",
        "    )\n",
        "\n",
        "  df = fbref.read_player_match_stats()\n",
        "  display(df.head(2))\n",
        "\n",
        "  df.to_csv(\n",
        "    path_output_year_csv, index=True\n",
        "  )\n"
      ]
    }
  ],
  "metadata": {
    "colab": {
      "provenance": [],
      "authorship_tag": "ABX9TyNJpT00DAINoKC0a000glLq",
      "include_colab_link": true
    },
    "kernelspec": {
      "display_name": "Python 3",
      "name": "python3"
    },
    "language_info": {
      "name": "python"
    }
  },
  "nbformat": 4,
  "nbformat_minor": 0
}